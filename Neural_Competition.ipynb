{
 "cells": [
  {
   "cell_type": "code",
   "execution_count": 1,
   "metadata": {
    "colab": {
     "base_uri": "https://localhost:8080/",
     "height": 128
    },
    "colab_type": "code",
    "id": "MzKCeTWmqxnm",
    "outputId": "47456844-0718-4731-f387-f5172e2c168c"
   },
   "outputs": [],
   "source": [
    "from google.colab import drive\n",
    "drive.mount('/content/drive')"
   ]
  },
  {
   "cell_type": "code",
   "execution_count": 2,
   "metadata": {
    "colab": {
     "base_uri": "https://localhost:8080/",
     "height": 35
    },
    "colab_type": "code",
    "id": "7pezwD93q7YD",
    "outputId": "e2102f52-e033-4ea2-a3ef-b918d28ede76"
   },
   "outputs": [
    {
     "name": "stdout",
     "output_type": "stream",
     "text": [
      "TensorFlow 1.x selected.\n"
     ]
    }
   ],
   "source": [
    "%tensorflow_version 1.x\n",
    "import tensorflow"
   ]
  },
  {
   "cell_type": "code",
   "execution_count": 3,
   "metadata": {
    "colab": {
     "base_uri": "https://localhost:8080/",
     "height": 35
    },
    "colab_type": "code",
    "id": "6Su7ZEKgrXbB",
    "outputId": "a05e8135-82b9-41e1-a2e6-0df840740aed"
   },
   "outputs": [
    {
     "name": "stderr",
     "output_type": "stream",
     "text": [
      "Using TensorFlow backend.\n"
     ]
    }
   ],
   "source": [
    "import glob\n",
    "import numpy as np\n",
    "import collections\n",
    "from keras.preprocessing import image\n",
    "from keras.applications.vgg16 import VGG16, preprocess_input\n",
    "from keras.preprocessing.image import ImageDataGenerator\n",
    "from keras.layers import Dense, Activation, Flatten, Dropout\n",
    "from keras.models import Sequential, Model\n",
    "from keras.optimizers import SGD, Adam\n",
    "from keras.callbacks import ModelCheckpoint\n",
    "import matplotlib.pyplot as plt"
   ]
  },
  {
   "cell_type": "code",
   "execution_count": 0,
   "metadata": {
    "colab": {},
    "colab_type": "code",
    "id": "VgkALyau1fuY"
   },
   "outputs": [],
   "source": [
    "def build_finetune_model(base_model, dropout, fc_layers, num_classes):\n",
    "    for layer in base_model.layers:\n",
    "        layer.trainable = False\n",
    "\n",
    "    x = base_model.output\n",
    "    x = Flatten()(x)\n",
    "    for fc in fc_layers:\n",
    "        # New FC layer, random init\n",
    "        x = Dense(fc, activation='relu')(x) \n",
    "        x = Dropout(dropout)(x)\n",
    "\n",
    "    # New softmax layer\n",
    "    predictions = Dense(num_classes, activation='softmax')(x) \n",
    "    \n",
    "    finetune_model = Model(inputs=base_model.input, outputs=predictions)\n",
    "\n",
    "    return finetune_model"
   ]
  },
  {
   "cell_type": "code",
   "execution_count": 0,
   "metadata": {
    "colab": {},
    "colab_type": "code",
    "id": "mVeLY5oC4mQJ"
   },
   "outputs": [],
   "source": [
    "def test_network(test_images, mod, mod1):\n",
    "    num_classes = 5\n",
    "    arr = []\n",
    "    arr2 = []\n",
    "    for test_image in test_images:\n",
    "      imgg = image.load_img(test_image, target_size=(224,224))\n",
    "      x = image.img_to_array(imgg)\n",
    "      x = np.expand_dims(x, axis=0)\n",
    "      x = preprocess_input(x)\n",
    "      # ll =(mod.predict([np.array(x)]))\n",
    "      ll = mod.predict(x)\n",
    "      # ll1 = mod1.predict(x)\n",
    "      # ll[0] = np.add(ll[0],ll1[0])\n",
    "      # arr.append((test_image,np.argmax((ll[0]))))\n",
    "      temp = np.argmax((ll[0]))\n",
    "      arr.append(np.argmax((ll[0])))\n",
    "      ll[0][temp] = 0\n",
    "      arr2.append(np.argmax(ll[0]))\n",
    "\n",
    "    # print(arr)\n",
    "    z = np.array(arr)\n",
    "    print(collections.Counter(z))\n",
    "    return arr, arr2"
   ]
  },
  {
   "cell_type": "code",
   "execution_count": 8,
   "metadata": {
    "colab": {
     "base_uri": "https://localhost:8080/",
     "height": 53
    },
    "colab_type": "code",
    "id": "Lgnolcy9rzQG",
    "outputId": "739315b4-82bb-47ea-cca9-a8eb425e4782"
   },
   "outputs": [
    {
     "name": "stdout",
     "output_type": "stream",
     "text": [
      "Found 250 images belonging to 5 classes.\n",
      "Found 2250 images belonging to 5 classes.\n"
     ]
    }
   ],
   "source": [
    "datagen = ImageDataGenerator(preprocessing_function=preprocess_input)\n",
    "VAL_DIR = \"/content/drive/My Drive/nncomp/validation\"\n",
    "HEIGHT = 224\n",
    "WIDTH = 224\n",
    "val_generator = datagen.flow_from_directory(\n",
    "    VAL_DIR, \n",
    "    target_size=(HEIGHT, WIDTH),\n",
    "    subset='training'\n",
    ")\n",
    "\n",
    "datagen = ImageDataGenerator(preprocessing_function=preprocess_input)\n",
    "TRAIN_DIR = \"/content/drive/My Drive/nncomp/train\"\n",
    "\n",
    "train_generator = datagen.flow_from_directory(\n",
    "    TRAIN_DIR, \n",
    "    target_size=(HEIGHT, WIDTH),\n",
    "    subset='training'\n",
    ")"
   ]
  },
  {
   "cell_type": "code",
   "execution_count": 12,
   "metadata": {
    "colab": {
     "base_uri": "https://localhost:8080/",
     "height": 164
    },
    "colab_type": "code",
    "id": "UvBHxXxPt9j3",
    "outputId": "a6aa639e-c262-43ac-920f-5be7cfdd7f43"
   },
   "outputs": [
    {
     "name": "stdout",
     "output_type": "stream",
     "text": [
      "WARNING:tensorflow:From /tensorflow-1.15.2/python3.6/tensorflow_core/python/ops/resource_variable_ops.py:1630: calling BaseResourceVariable.__init__ (from tensorflow.python.ops.resource_variable_ops) with constraint is deprecated and will be removed in a future version.\n",
      "Instructions for updating:\n",
      "If using Keras pass *_constraint arguments to layers.\n",
      "WARNING:tensorflow:From /usr/local/lib/python3.6/dist-packages/keras/backend/tensorflow_backend.py:4070: The name tf.nn.max_pool is deprecated. Please use tf.nn.max_pool2d instead.\n",
      "\n",
      "Downloading data from https://github.com/fchollet/deep-learning-models/releases/download/v0.1/vgg16_weights_tf_dim_ordering_tf_kernels_notop.h5\n",
      "58892288/58889256 [==============================] - 2s 0us/step\n"
     ]
    }
   ],
   "source": [
    "NUM_EPOCHS = 10\n",
    "num_train_images = 1350\n",
    "FC_LAYERS = [1024, 1024]\n",
    "dropout = 0.5\n",
    "adam = Adam(lr=0.00001)\n",
    "\n",
    "base_model = VGG16(weights='imagenet', \n",
    "                      include_top=False, \n",
    "                      input_shape=(HEIGHT, WIDTH, 3))\n",
    "\n",
    "finetune_model = build_finetune_model(base_model, \n",
    "                                      dropout=dropout, \n",
    "                                      fc_layers=FC_LAYERS, \n",
    "                                      num_classes=5)\n",
    "\n",
    "finetune_model.compile(adam, loss='categorical_crossentropy', metrics=['accuracy'])"
   ]
  },
  {
   "cell_type": "code",
   "execution_count": 0,
   "metadata": {
    "colab": {},
    "colab_type": "code",
    "id": "gejSGfjZuwWB"
   },
   "outputs": [],
   "source": [
    "filepath=\"/content/drive/My Drive/finaldata/\" + \"mimic1\" + \".h5\"\n",
    "checkpoint = ModelCheckpoint(filepath, monitor=[\"acc\"], verbose=1, mode='max')\n",
    "callbacks_list = [checkpoint]"
   ]
  },
  {
   "cell_type": "code",
   "execution_count": 0,
   "metadata": {
    "colab": {},
    "colab_type": "code",
    "id": "sico97tiVVQJ"
   },
   "outputs": [],
   "source": [
    "history = finetune_model.fit_generator(train_generator, epochs=NUM_EPOCHS, workers=8, \n",
    "                                       steps_per_epoch=250, \n",
    "                                       shuffle=True,callbacks = callbacks_list, verbose = 1, validation_data = val_generator)"
   ]
  },
  {
   "cell_type": "code",
   "execution_count": 0,
   "metadata": {
    "colab": {},
    "colab_type": "code",
    "id": "IGZLTHzc4ALn"
   },
   "outputs": [],
   "source": [
    "d5 = sorted(glob.glob(\"/content/drive/My Drive/TestData/*.jpg\"))\n",
    "finetune_model.load_weights(\"/content/drive/My Drive/nncomp/60percent.h5\")\n",
    "finetune_model1.load_weights(\"/content/drive/My Drive/nncomp/onetwothree.h5\")"
   ]
  },
  {
   "cell_type": "code",
   "execution_count": 33,
   "metadata": {
    "colab": {
     "base_uri": "https://localhost:8080/",
     "height": 35
    },
    "colab_type": "code",
    "id": "KC0AnW2zzgjE",
    "outputId": "404098aa-5b37-4aec-c655-e6b769dc4fd2"
   },
   "outputs": [
    {
     "name": "stdout",
     "output_type": "stream",
     "text": [
      "Counter({0: 105, 4: 57, 2: 21, 1: 16, 3: 1})\n"
     ]
    }
   ],
   "source": [
    "m,n= test_network(d5, finetune_model1, finetune_model1)"
   ]
  },
  {
   "cell_type": "code",
   "execution_count": 35,
   "metadata": {
    "colab": {
     "base_uri": "https://localhost:8080/",
     "height": 326
    },
    "colab_type": "code",
    "id": "ARckUFLbR5Mx",
    "outputId": "b2f8fbaa-8e6f-4e3c-fab4-c9a2765038e4"
   },
   "outputs": [
    {
     "name": "stdout",
     "output_type": "stream",
     "text": [
      "[[50  6  2  0  0]\n",
      " [21 14  1  1  0]\n",
      " [11  9  7  5  2]\n",
      " [ 3  4  5  4  8]\n",
      " [ 0  0  0  0 47]]\n",
      "              precision    recall  f1-score   support\n",
      "\n",
      "           0      0.588     0.862     0.699        58\n",
      "           1      0.424     0.378     0.400        37\n",
      "           2      0.467     0.206     0.286        34\n",
      "           3      0.400     0.167     0.235        24\n",
      "           4      0.825     1.000     0.904        47\n",
      "\n",
      "    accuracy                          0.610       200\n",
      "   macro avg      0.541     0.523     0.505       200\n",
      "weighted avg      0.570     0.610     0.566       200\n",
      "\n"
     ]
    }
   ],
   "source": [
    "from sklearn import metrics\n",
    "print(metrics.confusion_matrix(x, ww))\n",
    "# Print the precision and recall, among other metrics\n",
    "print(metrics.classification_report(x, ww, digits=3))"
   ]
  },
  {
   "cell_type": "code",
   "execution_count": 14,
   "metadata": {
    "colab": {
     "base_uri": "https://localhost:8080/",
     "height": 854
    },
    "colab_type": "code",
    "id": "NS5cH-32omce",
    "outputId": "937dbc9e-113b-4c51-a808-d8694ebee099"
   },
   "outputs": [
    {
     "name": "stdout",
     "output_type": "stream",
     "text": [
      "Model: \"vgg16\"\n",
      "_________________________________________________________________\n",
      "Layer (type)                 Output Shape              Param #   \n",
      "=================================================================\n",
      "input_1 (InputLayer)         (None, 224, 224, 3)       0         \n",
      "_________________________________________________________________\n",
      "block1_conv1 (Conv2D)        (None, 224, 224, 64)      1792      \n",
      "_________________________________________________________________\n",
      "block1_conv2 (Conv2D)        (None, 224, 224, 64)      36928     \n",
      "_________________________________________________________________\n",
      "block1_pool (MaxPooling2D)   (None, 112, 112, 64)      0         \n",
      "_________________________________________________________________\n",
      "block2_conv1 (Conv2D)        (None, 112, 112, 128)     73856     \n",
      "_________________________________________________________________\n",
      "block2_conv2 (Conv2D)        (None, 112, 112, 128)     147584    \n",
      "_________________________________________________________________\n",
      "block2_pool (MaxPooling2D)   (None, 56, 56, 128)       0         \n",
      "_________________________________________________________________\n",
      "block3_conv1 (Conv2D)        (None, 56, 56, 256)       295168    \n",
      "_________________________________________________________________\n",
      "block3_conv2 (Conv2D)        (None, 56, 56, 256)       590080    \n",
      "_________________________________________________________________\n",
      "block3_conv3 (Conv2D)        (None, 56, 56, 256)       590080    \n",
      "_________________________________________________________________\n",
      "block3_pool (MaxPooling2D)   (None, 28, 28, 256)       0         \n",
      "_________________________________________________________________\n",
      "block4_conv1 (Conv2D)        (None, 28, 28, 512)       1180160   \n",
      "_________________________________________________________________\n",
      "block4_conv2 (Conv2D)        (None, 28, 28, 512)       2359808   \n",
      "_________________________________________________________________\n",
      "block4_conv3 (Conv2D)        (None, 28, 28, 512)       2359808   \n",
      "_________________________________________________________________\n",
      "block4_pool (MaxPooling2D)   (None, 14, 14, 512)       0         \n",
      "_________________________________________________________________\n",
      "block5_conv1 (Conv2D)        (None, 14, 14, 512)       2359808   \n",
      "_________________________________________________________________\n",
      "block5_conv2 (Conv2D)        (None, 14, 14, 512)       2359808   \n",
      "_________________________________________________________________\n",
      "block5_conv3 (Conv2D)        (None, 14, 14, 512)       2359808   \n",
      "_________________________________________________________________\n",
      "block5_pool (MaxPooling2D)   (None, 7, 7, 512)         0         \n",
      "=================================================================\n",
      "Total params: 14,714,688\n",
      "Trainable params: 0\n",
      "Non-trainable params: 14,714,688\n",
      "_________________________________________________________________\n"
     ]
    }
   ],
   "source": [
    "from keras.utils.vis_utils import plot_model\n",
    "base_model.summary()"
   ]
  },
  {
   "cell_type": "code",
   "execution_count": 0,
   "metadata": {
    "colab": {},
    "colab_type": "code",
    "id": "XBOYFSwrSonG"
   },
   "outputs": [],
   "source": [
    "x = [0, 3, 3, 0, 1, 4, 1, 0, 0, 0, 2, 4, 4, 2, 0, 1, 1, 2, 3, 0, 1, 0, 1, 0, 1, 0, 3, 0, 2, 0, 4, 1, 4, 2, 3, 4, 4, 1, 1, 0, 2, 4, 3, 0, 0, 4, 3, 2, 1, 1, 0, 0, 2, 4, 4, 4, 1, 4, 3, 1, 0, 0, 1, 2, 1, 2, 3, 1, 0, 4, 4, 1, 1, 4, 0, 4, 4, 3, 3, 2, 0, 0, 4, 0, 0, 4, 0, 0, 0, 4, 4, 2, 3, 2, 2, 1, 0, 4, 0, 2, 3, 4, 4, 0, 0, 2, 4, 0, 1, 1, 2, 1, 4, 1, 4, 3, 2, 1, 1, 4, 1, 0, 0, 4, 3, 2, 4, 4, 3, 2, 2, 4, 1, 2, 0, 0, 0, 1, 0, 2, 2, 3, 0, 1, 0, 3, 2, 1, 4, 4, 0, 1, 0, 2, 4, 3, 0, 0, 0, 0, 2, 0, 0, 0, 1, 0, 4, 4, 4, 0, 4, 3, 1, 2, 3, 3, 2, 4, 4, 4, 3, 1, 4, 1, 2, 2, 0, 2, 3, 0, 2, 2, 4, 0, 4, 0, 4, 1, 0, 0]\n",
    "# # z = [0, 4, 4, 0, 2, 4, 0, 0, 1, 0, 2, 4, 4, 2, 0, 0, 1, 2, 2, 0, 1, 0, 2, 0, 3, 0, 4, 0, 2, 0, 4, 0, 4, 0, 2, 4, 4, 0, 1, 0, 2, 4, 2, 0, 0, 4, 0, 2, 1, 0, 0, 0, 1, 4, 4, 4, 2, 4, 2, 0, 1, 0, 1, 0, 0, 0, 2, 0, 0, 4, 4, 1, 1, 4, 0, 4, 4, 1, 0, 0, 0, 0, 4, 0, 1, 4, 0, 0, 0, 4, 4, 1, 0, 1, 3, 0, 0, 4, 0, 0, 4, 4, 4, 0, 0, 3, 4, 0, 1, 1, 2, 0, 4, 0, 4, 4, 1, 0, 0, 4, 1, 0, 2, 4, 3, 0, 4, 4, 2, 2, 0, 4, 0, 2, 2, 0, 0, 0, 2, 0, 1, 4, 0, 0, 0, 1, 0, 1, 4, 4, 0, 1, 0, 0, 4, 0, 0, 2, 0, 0, 2, 0, 0, 0, 0, 0, 4, 4, 4, 0, 4, 4, 0, 1, 4, 0, 0, 4, 4, 4, 1, 0, 4, 0, 0, 1, 0, 0, 4, 0, 1, 1, 4, 1, 4, 0, 4, 0, 0, 0]\n",
    "# # y = [0, 4, 4, 0, 1, 4, 0, 0, 1, 0, 2, 4, 4, 3, 2, 4, 1, 0, 2, 0, 1, 0, 0, 0, 3, 0, 4, 0, 0, 0, 4, 0, 4, 0, 3, 4, 4, 0, 1, 0, 3, 4, 4, 0, 0, 4, 0, 0, 1, 0, 0, 0, 1, 4, 4, 4, 0, 4, 4, 0, 1, 0, 1, 0, 0, 4, 2, 0, 0, 4, 4, 1, 1, 4, 0, 4, 4, 1, 0, 0, 0, 0, 4, 0, 1, 4, 0, 0, 0, 4, 4, 2, 1, 1, 4, 0, 0, 4, 0, 0, 4, 4, 4, 0, 0, 4, 4, 0, 1, 1, 2, 0, 4, 0, 4, 4, 3, 0, 1, 4, 1, 0, 2, 4, 2, 0, 4, 4, 4, 4, 2, 4, 0, 4, 0, 0, 0, 0, 0, 2, 4, 4, 0, 0, 0, 1, 0, 1, 4, 4, 0, 1, 0, 0, 4, 0, 0, 0, 0, 0, 0, 0, 0, 0, 0, 0, 4, 4, 4, 0, 4, 4, 0, 1, 4, 0, 0, 4, 4, 4, 4, 0, 4, 0, 0, 1, 0, 0, 3, 0, 1, 1, 4, 0, 4, 0, 4, 0, 1, 0]\n",
    "# q = [0, 4, 4, 0, 1, 4, 0, 0, 1, 0, 2, 4, 4, 3, 2, 4, 1, 0, 2, 0, 1, 0, 0, 0, 3, 0, 4, 0, 0, 0, 4, 0, 4, 0, 3, 4, 4, 0, 1, 0, 3, 4, 4, 0, 0, 4, 0, 0, 1, 0, 0, 0, 1, 4, 4, 4, 0, 4, 4, 0, 1, 0, 1, 0, 0, 4, 2, 0, 0, 4, 4, 1, 1, 4, 0, 4, 4, 1, 0, 0, 0, 0, 4, 0, 1, 4, 0, 0, 0, 4, 4, 2, 1, 1, 4, 0, 0, 4, 0, 0, 4, 4, 4, 0, 0, 4, 4, 0, 1, 1, 2, 0, 4, 0, 4, 4, 3, 0, 1, 4, 1, 0, 2, 4, 2, 0, 4, 4, 4, 4, 2, 4, 0, 4, 0, 0, 0, 0, 0, 2, 4, 4, 0, 0, 0, 1, 0, 1, 4, 4, 0, 1, 0, 0, 4, 0, 0, 0, 0, 0, 0, 0, 0, 0, 0, 0, 4, 4, 4, 0, 4, 4, 0, 1, 4, 0, 0, 4, 4, 4, 4, 0, 4, 0, 0, 1, 0, 0, 3, 0, 1, 1, 4, 0, 4, 0, 4, 0, 1, 0]\n"
   ]
  },
  {
   "cell_type": "code",
   "execution_count": 19,
   "metadata": {
    "colab": {
     "base_uri": "https://localhost:8080/",
     "height": 72
    },
    "colab_type": "code",
    "id": "Dn9jY3vVxuOw",
    "outputId": "8ccd3303-68aa-4072-a374-63a499c79ea8"
   },
   "outputs": [
    {
     "name": "stdout",
     "output_type": "stream",
     "text": [
      "Counter({0: 58, 4: 47, 1: 37, 2: 34, 3: 24})\n",
      "Counter({3: 74, 2: 55, 1: 36, 0: 28, 4: 7})\n",
      "Counter({0: 91, 4: 66, 1: 27, 2: 10, 3: 6})\n"
     ]
    }
   ],
   "source": [
    "print(collections.Counter(x))\n",
    "print(collections.Counter(r))\n",
    "print(collections.Counter(q))"
   ]
  },
  {
   "cell_type": "code",
   "execution_count": 42,
   "metadata": {
    "colab": {
     "base_uri": "https://localhost:8080/",
     "height": 35
    },
    "colab_type": "code",
    "id": "w37COE5ATlpu",
    "outputId": "119a8c73-9525-4663-bf4c-1d1685ee33a7"
   },
   "outputs": [
    {
     "name": "stdout",
     "output_type": "stream",
     "text": [
      "0.765\n"
     ]
    }
   ],
   "source": [
    "count = 0\n",
    "for i,j,k in zip(x,m,n):\n",
    "  if i in [j,k]:\n",
    "    count += 1\n",
    "print(count/200)"
   ]
  },
  {
   "cell_type": "code",
   "execution_count": 34,
   "metadata": {
    "colab": {
     "base_uri": "https://localhost:8080/",
     "height": 90
    },
    "colab_type": "code",
    "id": "BSPzQk79srI0",
    "outputId": "56cfd5d2-49cf-4462-c556-d409f06d4bb2"
   },
   "outputs": [
    {
     "name": "stdout",
     "output_type": "stream",
     "text": [
      "122\n",
      "Counter({0: 91, 4: 66, 1: 27, 2: 10, 3: 6})\n",
      "Counter({0: 105, 4: 57, 2: 21, 1: 16, 3: 1})\n",
      "Counter({0: 85, 4: 57, 1: 33, 2: 15, 3: 10})\n"
     ]
    }
   ],
   "source": [
    "count = 0\n",
    "ww = []\n",
    "for i,j,k in zip(x,m,q):#q-60%, y-mix\n",
    "  t = k if k in [1,2,3] else int((j+k)/2)\n",
    "  if i == t:\n",
    "    count += 1\n",
    "  ww.append(t)\n",
    "print(count)\n",
    "print(collections.Counter(q)) #basic classifier\n",
    "print(collections.Counter(m)) #priority classifier\n",
    "print(collections.Counter(ww))#ensemble classifier"
   ]
  }
 ],
 "metadata": {
  "accelerator": "GPU",
  "colab": {
   "collapsed_sections": [],
   "name": "Neural Competition.ipynb",
   "provenance": []
  },
  "kernelspec": {
   "display_name": "Python 3",
   "language": "python",
   "name": "python3"
  },
  "language_info": {
   "codemirror_mode": {
    "name": "ipython",
    "version": 3
   },
   "file_extension": ".py",
   "mimetype": "text/x-python",
   "name": "python",
   "nbconvert_exporter": "python",
   "pygments_lexer": "ipython3",
   "version": "3.7.6"
  }
 },
 "nbformat": 4,
 "nbformat_minor": 1
}
